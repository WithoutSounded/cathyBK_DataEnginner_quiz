{
 "cells": [
  {
   "cell_type": "code",
   "execution_count": 1,
   "metadata": {},
   "outputs": [],
   "source": [
    "import os\n",
    "import fnmatch\n",
    "\n",
    "import numpy as np\n",
    "import pandas as pd"
   ]
  },
  {
   "cell_type": "code",
   "execution_count": 2,
   "metadata": {},
   "outputs": [],
   "source": [
    "def find_target_filePath(dataPath):\n",
    "    \n",
    "    for folder in os.listdir(dataPath):\n",
    "        for file in os.listdir(dataPath+'/'+folder):\n",
    "            if fnmatch.fnmatch(file, '?_lvr_land_?.csv'):\n",
    "                full_path = dataPath+'/'+folder+'/'+file\n",
    "                yield full_path"
   ]
  },
  {
   "cell_type": "code",
   "execution_count": 3,
   "metadata": {},
   "outputs": [],
   "source": [
    "def read_data(path):\n",
    "    try:\n",
    "        df = pd.read_csv(path, header=1) \n",
    "    except pd.errors.EmptyDataError:\n",
    "        print('Note: filename.csv was empty. Skipping.')\n",
    "        df = pd.DataFrame()\n",
    "        \n",
    "    return df"
   ]
  },
  {
   "cell_type": "code",
   "execution_count": 4,
   "metadata": {},
   "outputs": [],
   "source": [
    "def preprocessing(df, path):\n",
    "    # last one will be filename, second from the back will be that folder\n",
    "    keyWord = path.split('/')\n",
    "    \n",
    "    # ./data/106_1/H_lvr_land_B.csv -> 106_1_H_B\n",
    "    df_name = keyWord[-2]+'_'+keyWord[-1][0]+'_'+keyWord[-1][-5]\n",
    "    df['df_name'] = df_name\n",
    "    # floor: ch->digit\n",
    "    df['total floor number'] = df['total floor number'].apply(ch2num)\n",
    "    \n",
    "    return df"
   ]
  },
  {
   "cell_type": "code",
   "execution_count": 5,
   "metadata": {},
   "outputs": [],
   "source": [
    "number_map = {\n",
    "    \"零\": 0,\n",
    "    \"一\": 1,\n",
    "    \"二\": 2,\n",
    "    \"三\": 3,\n",
    "    \"四\": 4,\n",
    "    \"五\": 5,\n",
    "    \"六\": 6,\n",
    "    \"七\": 7,\n",
    "    \"八\": 8,\n",
    "    \"九\": 9,\n",
    "    \"十\":10\n",
    "}\n",
    "\n",
    "def ch2num(ch_num):\n",
    "    num_list = []\n",
    "    num = 0\n",
    "    \n",
    "#     print(ch_num)\n",
    "    \n",
    "    if ch_num == '地下層':\n",
    "        return -1\n",
    "    \n",
    "    try:\n",
    "        ch_num = int(ch_num)\n",
    "    except:\n",
    "        pass\n",
    "    \n",
    "    if ch_num is np.nan:\n",
    "        return 0\n",
    "    if isinstance(ch_num, int):\n",
    "        return ch_num\n",
    "    \n",
    "    for ch in ch_num:\n",
    "        if ch == '層':\n",
    "            continue\n",
    "        num_list.append(number_map[ch])\n",
    "        \n",
    "    if len(num_list) == 1:\n",
    "        return num_list[0]\n",
    "    elif len(num_list) == 2:\n",
    "        # 10,20,30,40...,90\n",
    "        if num_list[1] == 10:\n",
    "            return num_list[0]*10\n",
    "        else:\n",
    "            # 11-19\n",
    "            return num_list[0]+num_list[1]\n",
    "    else:\n",
    "        return num_list[0]*10+num_list[2]"
   ]
  },
  {
   "cell_type": "code",
   "execution_count": null,
   "metadata": {},
   "outputs": [],
   "source": []
  },
  {
   "cell_type": "code",
   "execution_count": 6,
   "metadata": {},
   "outputs": [
    {
     "name": "stdout",
     "output_type": "stream",
     "text": [
      "./data/106_1/A_lvr_land_A.csv\n",
      "./data/106_1/B_lvr_land_B.csv\n",
      "./data/106_1/E_lvr_land_A.csv\n",
      "./data/106_1/F_lvr_land_A.csv\n",
      "./data/106_1/H_lvr_land_B.csv\n",
      "./data/106_2/A_lvr_land_A.csv\n",
      "./data/106_2/B_lvr_land_B.csv\n",
      "Note: filename.csv was empty. Skipping.\n",
      "./data/106_2/E_lvr_land_A.csv\n",
      "./data/106_2/F_lvr_land_A.csv\n",
      "./data/106_2/H_lvr_land_B.csv\n",
      "./data/106_3/A_lvr_land_A.csv\n",
      "./data/106_3/B_lvr_land_B.csv\n",
      "./data/106_3/E_lvr_land_A.csv\n",
      "./data/106_3/F_lvr_land_A.csv\n",
      "./data/106_3/H_lvr_land_B.csv\n",
      "./data/106_4/A_lvr_land_A.csv\n",
      "./data/106_4/B_lvr_land_B.csv\n",
      "./data/106_4/E_lvr_land_A.csv\n",
      "./data/106_4/F_lvr_land_A.csv\n",
      "./data/106_4/H_lvr_land_B.csv\n",
      "./data/107_1/A_lvr_land_A.csv\n",
      "./data/107_1/B_lvr_land_B.csv\n",
      "./data/107_1/E_lvr_land_A.csv\n",
      "./data/107_1/F_lvr_land_A.csv\n",
      "./data/107_1/H_lvr_land_B.csv\n",
      "./data/107_2/A_lvr_land_A.csv\n",
      "./data/107_2/B_lvr_land_B.csv\n",
      "./data/107_2/E_lvr_land_A.csv\n",
      "./data/107_2/F_lvr_land_A.csv\n",
      "./data/107_2/H_lvr_land_B.csv\n",
      "./data/107_3/A_lvr_land_A.csv\n",
      "./data/107_3/B_lvr_land_B.csv\n",
      "./data/107_3/E_lvr_land_A.csv\n",
      "./data/107_3/F_lvr_land_A.csv\n",
      "./data/107_3/H_lvr_land_B.csv\n",
      "./data/107_4/A_lvr_land_A.csv\n",
      "./data/107_4/B_lvr_land_B.csv\n",
      "./data/107_4/E_lvr_land_A.csv\n",
      "./data/107_4/F_lvr_land_A.csv\n",
      "./data/107_4/H_lvr_land_B.csv\n",
      "./data/108_1/A_lvr_land_A.csv\n",
      "./data/108_1/B_lvr_land_B.csv\n",
      "./data/108_1/E_lvr_land_A.csv\n",
      "./data/108_1/F_lvr_land_A.csv\n",
      "./data/108_1/H_lvr_land_B.csv\n",
      "./data/108_2/A_lvr_land_A.csv\n",
      "./data/108_2/B_lvr_land_B.csv\n",
      "./data/108_2/E_lvr_land_A.csv\n",
      "./data/108_2/F_lvr_land_A.csv\n",
      "./data/108_2/H_lvr_land_B.csv\n",
      "./data/108_3/A_lvr_land_A.csv\n",
      "./data/108_3/B_lvr_land_B.csv\n",
      "./data/108_3/E_lvr_land_A.csv\n",
      "./data/108_3/F_lvr_land_A.csv\n",
      "./data/108_3/H_lvr_land_B.csv\n",
      "./data/108_4/A_lvr_land_A.csv\n",
      "./data/108_4/B_lvr_land_B.csv\n",
      "./data/108_4/E_lvr_land_A.csv\n",
      "./data/108_4/F_lvr_land_A.csv\n",
      "./data/108_4/H_lvr_land_B.csv\n",
      "./data/109_1/A_lvr_land_A.csv\n",
      "./data/109_1/B_lvr_land_B.csv\n",
      "./data/109_1/E_lvr_land_A.csv\n",
      "./data/109_1/F_lvr_land_A.csv\n",
      "./data/109_1/H_lvr_land_B.csv\n",
      "./data/109_2/A_lvr_land_A.csv\n",
      "./data/109_2/B_lvr_land_B.csv\n",
      "./data/109_2/E_lvr_land_A.csv\n",
      "./data/109_2/F_lvr_land_A.csv\n",
      "./data/109_2/H_lvr_land_B.csv\n",
      "./data/109_3/A_lvr_land_A.csv\n",
      "./data/109_3/B_lvr_land_B.csv\n",
      "./data/109_3/E_lvr_land_A.csv\n",
      "./data/109_3/F_lvr_land_A.csv\n",
      "./data/109_3/H_lvr_land_B.csv\n",
      "./data/109_4/A_lvr_land_A.csv\n",
      "./data/109_4/B_lvr_land_B.csv\n",
      "./data/109_4/E_lvr_land_A.csv\n",
      "./data/109_4/F_lvr_land_A.csv\n",
      "./data/109_4/H_lvr_land_B.csv\n"
     ]
    }
   ],
   "source": [
    "# step 1\n",
    "# dataPath = './testDataSet'\n",
    "dataPath = './data'\n",
    "\n",
    "number_rows = []\n",
    "target_df = []\n",
    "\n",
    "# step 2   \n",
    "for filePath in find_target_filePath(dataPath):\n",
    "    print(filePath)\n",
    "    \n",
    "    df = read_data(filePath)\n",
    "    if df.empty:\n",
    "        continue\n",
    "    \n",
    "    df_after = preprocessing(df, filePath)\n",
    "    number_rows.append(len(df_after.index))\n",
    "    target_df.append(df_after)\n",
    "    \n",
    "# step 3    \n",
    "df_all = pd.concat(target_df)"
   ]
  },
  {
   "cell_type": "code",
   "execution_count": 19,
   "metadata": {},
   "outputs": [],
   "source": [
    "# df_all"
   ]
  },
  {
   "cell_type": "code",
   "execution_count": 8,
   "metadata": {},
   "outputs": [],
   "source": [
    "# filter condition:\n",
    "# 主要用途: main use -> chinese (住家用)\n",
    "# 建物型態: building state -> chinese (住宅大樓(11層含以上有電梯))\n",
    "# 總樓層數: total floor number -> chinese with unit (>= 十三層)"
   ]
  },
  {
   "cell_type": "code",
   "execution_count": 9,
   "metadata": {},
   "outputs": [],
   "source": [
    "filter_result = df_all[(df_all['main use']=='住家用')&\n",
    "                       (df_all['building state']=='住宅大樓(11層含以上有電梯)')&\n",
    "                       (df_all['total floor number']>=13)]"
   ]
  },
  {
   "cell_type": "code",
   "execution_count": 10,
   "metadata": {},
   "outputs": [],
   "source": [
    "# filter_result[['main use','building state','total floor number']]"
   ]
  },
  {
   "cell_type": "code",
   "execution_count": 20,
   "metadata": {},
   "outputs": [],
   "source": [
    "filter_result.to_csv('./filter.csv', encoding='utf_8_sig')"
   ]
  },
  {
   "cell_type": "code",
   "execution_count": null,
   "metadata": {},
   "outputs": [],
   "source": []
  },
  {
   "cell_type": "code",
   "execution_count": 12,
   "metadata": {},
   "outputs": [],
   "source": [
    "# count condition:\n",
    "# 總件數 count(*)\n",
    "# 總車位數 count('berth shifting total area square meter' != 0)\n",
    "# 平均總價元 AVG('total price NTD')\n",
    "# 平均車位總價元 AVG('the berth total price NTD')"
   ]
  },
  {
   "cell_type": "code",
   "execution_count": 13,
   "metadata": {},
   "outputs": [],
   "source": [
    "total_count = len(df_all.index)"
   ]
  },
  {
   "cell_type": "code",
   "execution_count": 14,
   "metadata": {},
   "outputs": [],
   "source": [
    "total_number_parking = len(df_all[(df_all['berth shifting total area square meter'] > 0)])"
   ]
  },
  {
   "cell_type": "code",
   "execution_count": 15,
   "metadata": {},
   "outputs": [],
   "source": [
    "avg_total_price = df_all['total price NTD'].mean()"
   ]
  },
  {
   "cell_type": "code",
   "execution_count": 16,
   "metadata": {},
   "outputs": [],
   "source": [
    "avg_total_parking_price = df_all['the berth total price NTD'].mean()"
   ]
  },
  {
   "cell_type": "code",
   "execution_count": 21,
   "metadata": {},
   "outputs": [],
   "source": [
    "output_dict = {'total_count':total_count,\n",
    "               'total_number_parking':total_number_parking,\n",
    "               'avg_total_price':avg_total_price,\n",
    "               'avg_total_parking_price':avg_total_parking_price}\n",
    "data = pd.DataFrame(output_dict, index=[0])\n",
    "data.to_csv('./count.csv', encoding='utf_8_sig')"
   ]
  },
  {
   "cell_type": "code",
   "execution_count": null,
   "metadata": {},
   "outputs": [],
   "source": []
  },
  {
   "cell_type": "code",
   "execution_count": null,
   "metadata": {},
   "outputs": [],
   "source": []
  },
  {
   "cell_type": "code",
   "execution_count": null,
   "metadata": {},
   "outputs": [],
   "source": []
  }
 ],
 "metadata": {
  "kernelspec": {
   "display_name": "Python 3",
   "language": "python",
   "name": "python3"
  },
  "language_info": {
   "codemirror_mode": {
    "name": "ipython",
    "version": 3
   },
   "file_extension": ".py",
   "mimetype": "text/x-python",
   "name": "python",
   "nbconvert_exporter": "python",
   "pygments_lexer": "ipython3",
   "version": "3.7.15"
  }
 },
 "nbformat": 4,
 "nbformat_minor": 2
}
